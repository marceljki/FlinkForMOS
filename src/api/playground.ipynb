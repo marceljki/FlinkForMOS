{
 "cells": [
  {
   "cell_type": "code",
   "execution_count": null,
   "metadata": {
    "collapsed": true
   },
   "outputs": [],
   "source": [
    "import requests\n",
    "\n",
    "url = \"https://newsapi.org/v2/everything\"\n",
    "params = {\n",
    "    \"q\": \"tesla\",\n",
    "    \"from\": \"2023-10-18\",\n",
    "    \"sortBy\": \"publishedAt\",\n",
    "    \"apiKey\": \"YOUR_API_KEY\"\n",
    "}\n",
    "\n",
    "response = requests.get(url, params=params)\n",
    "\n",
    "if response.status_code == 200:\n",
    "    # The request was successful\n",
    "    data = response.json()\n",
    "    articles = data.get(\"articles\", [])\n",
    "\n",
    "    for article in articles:\n",
    "        print(article[\"title\"])\n",
    "else:\n",
    "    # There was an error with the request\n",
    "    print(f\"Error: {response.status_code} - {response.text}\")\n"
   ]
  }
 ],
 "metadata": {
  "kernelspec": {
   "display_name": "Python 3",
   "language": "python",
   "name": "python3"
  },
  "language_info": {
   "codemirror_mode": {
    "name": "ipython",
    "version": 2
   },
   "file_extension": ".py",
   "mimetype": "text/x-python",
   "name": "python",
   "nbconvert_exporter": "python",
   "pygments_lexer": "ipython2",
   "version": "2.7.6"
  }
 },
 "nbformat": 4,
 "nbformat_minor": 0
}
